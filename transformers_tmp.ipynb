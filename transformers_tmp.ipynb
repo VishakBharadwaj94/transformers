{
  "nbformat": 4,
  "nbformat_minor": 0,
  "metadata": {
    "kernelspec": {
      "display_name": "Python 3",
      "language": "python",
      "name": "python3"
    },
    "language_info": {
      "codemirror_mode": {
        "name": "ipython",
        "version": 3
      },
      "file_extension": ".py",
      "mimetype": "text/x-python",
      "name": "python",
      "nbconvert_exporter": "python",
      "pygments_lexer": "ipython3",
      "version": "3.8.5"
    },
    "colab": {
      "name": "transformers_1.ipynb",
      "provenance": [],
      "toc_visible": true
    }
  },
  "cells": [
    {
      "cell_type": "markdown",
      "metadata": {
        "id": "zBHsvG1nMJvu"
      },
      "source": [
        "### Part 1 : Word Embeddings and Self attention"
      ]
    },
    {
      "cell_type": "code",
      "metadata": {
        "colab": {
          "base_uri": "https://localhost:8080/"
        },
        "id": "NcTbCxYfMJvv",
        "outputId": "88ccd9f0-4fab-49ef-f4c8-c4fadcf137f1"
      },
      "source": [
        "!wget http://nlp.stanford.edu/data/wordvecs/glove.6B.zip\n",
        "!unzip glove.6B.zip"
      ],
      "execution_count": 1,
      "outputs": [
        {
          "output_type": "stream",
          "text": [
            "--2021-01-29 17:38:46--  http://nlp.stanford.edu/data/wordvecs/glove.6B.zip\n",
            "Resolving nlp.stanford.edu (nlp.stanford.edu)... 171.64.67.140\n",
            "Connecting to nlp.stanford.edu (nlp.stanford.edu)|171.64.67.140|:80... connected.\n",
            "HTTP request sent, awaiting response... 302 Found\n",
            "Location: https://nlp.stanford.edu/data/wordvecs/glove.6B.zip [following]\n",
            "--2021-01-29 17:38:46--  https://nlp.stanford.edu/data/wordvecs/glove.6B.zip\n",
            "Connecting to nlp.stanford.edu (nlp.stanford.edu)|171.64.67.140|:443... connected.\n",
            "HTTP request sent, awaiting response... 301 Moved Permanently\n",
            "Location: http://downloads.cs.stanford.edu/nlp/data/wordvecs/glove.6B.zip [following]\n",
            "--2021-01-29 17:38:47--  http://downloads.cs.stanford.edu/nlp/data/wordvecs/glove.6B.zip\n",
            "Resolving downloads.cs.stanford.edu (downloads.cs.stanford.edu)... 171.64.64.22\n",
            "Connecting to downloads.cs.stanford.edu (downloads.cs.stanford.edu)|171.64.64.22|:80... connected.\n",
            "HTTP request sent, awaiting response... 200 OK\n",
            "Length: 862182753 (822M) [application/zip]\n",
            "Saving to: ‘glove.6B.zip’\n",
            "\n",
            "glove.6B.zip        100%[===================>] 822.24M  1.96MB/s    in 6m 29s  \n",
            "\n",
            "2021-01-29 17:45:16 (2.12 MB/s) - ‘glove.6B.zip’ saved [862182753/862182753]\n",
            "\n",
            "Archive:  glove.6B.zip\n",
            "  inflating: glove.6B.100d.txt       \n",
            "  inflating: glove.6B.200d.txt       \n",
            "  inflating: glove.6B.300d.txt       \n",
            "  inflating: glove.6B.50d.txt        \n"
          ],
          "name": "stdout"
        }
      ]
    },
    {
      "cell_type": "code",
      "metadata": {
        "colab": {
          "base_uri": "https://localhost:8080/",
          "height": 274
        },
        "id": "IZGELsKnOXop",
        "outputId": "227bf3bc-8cec-4240-f711-49133d2e5cdb"
      },
      "source": [
        "import pandas as pd \n",
        "glove = pd.read_csv('glove.6B.100d.txt', sep=\" \", quoting=3, header=None, index_col=0)\n",
        "glove.head()"
      ],
      "execution_count": 2,
      "outputs": [
        {
          "output_type": "execute_result",
          "data": {
            "text/html": [
              "<div>\n",
              "<style scoped>\n",
              "    .dataframe tbody tr th:only-of-type {\n",
              "        vertical-align: middle;\n",
              "    }\n",
              "\n",
              "    .dataframe tbody tr th {\n",
              "        vertical-align: top;\n",
              "    }\n",
              "\n",
              "    .dataframe thead th {\n",
              "        text-align: right;\n",
              "    }\n",
              "</style>\n",
              "<table border=\"1\" class=\"dataframe\">\n",
              "  <thead>\n",
              "    <tr style=\"text-align: right;\">\n",
              "      <th></th>\n",
              "      <th>1</th>\n",
              "      <th>2</th>\n",
              "      <th>3</th>\n",
              "      <th>4</th>\n",
              "      <th>5</th>\n",
              "      <th>6</th>\n",
              "      <th>7</th>\n",
              "      <th>8</th>\n",
              "      <th>9</th>\n",
              "      <th>10</th>\n",
              "      <th>11</th>\n",
              "      <th>12</th>\n",
              "      <th>13</th>\n",
              "      <th>14</th>\n",
              "      <th>15</th>\n",
              "      <th>16</th>\n",
              "      <th>17</th>\n",
              "      <th>18</th>\n",
              "      <th>19</th>\n",
              "      <th>20</th>\n",
              "      <th>21</th>\n",
              "      <th>22</th>\n",
              "      <th>23</th>\n",
              "      <th>24</th>\n",
              "      <th>25</th>\n",
              "      <th>26</th>\n",
              "      <th>27</th>\n",
              "      <th>28</th>\n",
              "      <th>29</th>\n",
              "      <th>30</th>\n",
              "      <th>31</th>\n",
              "      <th>32</th>\n",
              "      <th>33</th>\n",
              "      <th>34</th>\n",
              "      <th>35</th>\n",
              "      <th>36</th>\n",
              "      <th>37</th>\n",
              "      <th>38</th>\n",
              "      <th>39</th>\n",
              "      <th>40</th>\n",
              "      <th>...</th>\n",
              "      <th>61</th>\n",
              "      <th>62</th>\n",
              "      <th>63</th>\n",
              "      <th>64</th>\n",
              "      <th>65</th>\n",
              "      <th>66</th>\n",
              "      <th>67</th>\n",
              "      <th>68</th>\n",
              "      <th>69</th>\n",
              "      <th>70</th>\n",
              "      <th>71</th>\n",
              "      <th>72</th>\n",
              "      <th>73</th>\n",
              "      <th>74</th>\n",
              "      <th>75</th>\n",
              "      <th>76</th>\n",
              "      <th>77</th>\n",
              "      <th>78</th>\n",
              "      <th>79</th>\n",
              "      <th>80</th>\n",
              "      <th>81</th>\n",
              "      <th>82</th>\n",
              "      <th>83</th>\n",
              "      <th>84</th>\n",
              "      <th>85</th>\n",
              "      <th>86</th>\n",
              "      <th>87</th>\n",
              "      <th>88</th>\n",
              "      <th>89</th>\n",
              "      <th>90</th>\n",
              "      <th>91</th>\n",
              "      <th>92</th>\n",
              "      <th>93</th>\n",
              "      <th>94</th>\n",
              "      <th>95</th>\n",
              "      <th>96</th>\n",
              "      <th>97</th>\n",
              "      <th>98</th>\n",
              "      <th>99</th>\n",
              "      <th>100</th>\n",
              "    </tr>\n",
              "    <tr>\n",
              "      <th>0</th>\n",
              "      <th></th>\n",
              "      <th></th>\n",
              "      <th></th>\n",
              "      <th></th>\n",
              "      <th></th>\n",
              "      <th></th>\n",
              "      <th></th>\n",
              "      <th></th>\n",
              "      <th></th>\n",
              "      <th></th>\n",
              "      <th></th>\n",
              "      <th></th>\n",
              "      <th></th>\n",
              "      <th></th>\n",
              "      <th></th>\n",
              "      <th></th>\n",
              "      <th></th>\n",
              "      <th></th>\n",
              "      <th></th>\n",
              "      <th></th>\n",
              "      <th></th>\n",
              "      <th></th>\n",
              "      <th></th>\n",
              "      <th></th>\n",
              "      <th></th>\n",
              "      <th></th>\n",
              "      <th></th>\n",
              "      <th></th>\n",
              "      <th></th>\n",
              "      <th></th>\n",
              "      <th></th>\n",
              "      <th></th>\n",
              "      <th></th>\n",
              "      <th></th>\n",
              "      <th></th>\n",
              "      <th></th>\n",
              "      <th></th>\n",
              "      <th></th>\n",
              "      <th></th>\n",
              "      <th></th>\n",
              "      <th></th>\n",
              "      <th></th>\n",
              "      <th></th>\n",
              "      <th></th>\n",
              "      <th></th>\n",
              "      <th></th>\n",
              "      <th></th>\n",
              "      <th></th>\n",
              "      <th></th>\n",
              "      <th></th>\n",
              "      <th></th>\n",
              "      <th></th>\n",
              "      <th></th>\n",
              "      <th></th>\n",
              "      <th></th>\n",
              "      <th></th>\n",
              "      <th></th>\n",
              "      <th></th>\n",
              "      <th></th>\n",
              "      <th></th>\n",
              "      <th></th>\n",
              "      <th></th>\n",
              "      <th></th>\n",
              "      <th></th>\n",
              "      <th></th>\n",
              "      <th></th>\n",
              "      <th></th>\n",
              "      <th></th>\n",
              "      <th></th>\n",
              "      <th></th>\n",
              "      <th></th>\n",
              "      <th></th>\n",
              "      <th></th>\n",
              "      <th></th>\n",
              "      <th></th>\n",
              "      <th></th>\n",
              "      <th></th>\n",
              "      <th></th>\n",
              "      <th></th>\n",
              "      <th></th>\n",
              "      <th></th>\n",
              "    </tr>\n",
              "  </thead>\n",
              "  <tbody>\n",
              "    <tr>\n",
              "      <th>the</th>\n",
              "      <td>-0.038194</td>\n",
              "      <td>-0.244870</td>\n",
              "      <td>0.72812</td>\n",
              "      <td>-0.399610</td>\n",
              "      <td>0.083172</td>\n",
              "      <td>0.043953</td>\n",
              "      <td>-0.391410</td>\n",
              "      <td>0.334400</td>\n",
              "      <td>-0.57545</td>\n",
              "      <td>0.087459</td>\n",
              "      <td>0.287870</td>\n",
              "      <td>-0.06731</td>\n",
              "      <td>0.30906</td>\n",
              "      <td>-0.26384</td>\n",
              "      <td>-0.13231</td>\n",
              "      <td>-0.20757</td>\n",
              "      <td>0.33395</td>\n",
              "      <td>-0.338480</td>\n",
              "      <td>-0.31743</td>\n",
              "      <td>-0.48336</td>\n",
              "      <td>0.146400</td>\n",
              "      <td>-0.373040</td>\n",
              "      <td>0.34577</td>\n",
              "      <td>0.052041</td>\n",
              "      <td>0.449460</td>\n",
              "      <td>-0.469710</td>\n",
              "      <td>0.026280</td>\n",
              "      <td>-0.54155</td>\n",
              "      <td>-0.15518</td>\n",
              "      <td>-0.141070</td>\n",
              "      <td>-0.039722</td>\n",
              "      <td>0.28277</td>\n",
              "      <td>0.14393</td>\n",
              "      <td>0.234640</td>\n",
              "      <td>-0.31021</td>\n",
              "      <td>0.086173</td>\n",
              "      <td>0.20397</td>\n",
              "      <td>0.52624</td>\n",
              "      <td>0.171640</td>\n",
              "      <td>-0.082378</td>\n",
              "      <td>...</td>\n",
              "      <td>-0.24978</td>\n",
              "      <td>0.92136</td>\n",
              "      <td>0.034514</td>\n",
              "      <td>0.46745</td>\n",
              "      <td>1.10790</td>\n",
              "      <td>-0.193580</td>\n",
              "      <td>-0.074575</td>\n",
              "      <td>0.233530</td>\n",
              "      <td>-0.052062</td>\n",
              "      <td>-0.220440</td>\n",
              "      <td>0.057162</td>\n",
              "      <td>-0.15806</td>\n",
              "      <td>-0.307980</td>\n",
              "      <td>-0.416250</td>\n",
              "      <td>0.379720</td>\n",
              "      <td>0.150060</td>\n",
              "      <td>-0.532120</td>\n",
              "      <td>-0.205500</td>\n",
              "      <td>-1.25260</td>\n",
              "      <td>0.071624</td>\n",
              "      <td>0.70565</td>\n",
              "      <td>0.497440</td>\n",
              "      <td>-0.42063</td>\n",
              "      <td>0.26148</td>\n",
              "      <td>-1.5380</td>\n",
              "      <td>-0.30223</td>\n",
              "      <td>-0.073438</td>\n",
              "      <td>-0.283120</td>\n",
              "      <td>0.371040</td>\n",
              "      <td>-0.25217</td>\n",
              "      <td>0.016215</td>\n",
              "      <td>-0.017099</td>\n",
              "      <td>-0.389840</td>\n",
              "      <td>0.87424</td>\n",
              "      <td>-0.72569</td>\n",
              "      <td>-0.51058</td>\n",
              "      <td>-0.520280</td>\n",
              "      <td>-0.14590</td>\n",
              "      <td>0.82780</td>\n",
              "      <td>0.270620</td>\n",
              "    </tr>\n",
              "    <tr>\n",
              "      <th>,</th>\n",
              "      <td>-0.107670</td>\n",
              "      <td>0.110530</td>\n",
              "      <td>0.59812</td>\n",
              "      <td>-0.543610</td>\n",
              "      <td>0.673960</td>\n",
              "      <td>0.106630</td>\n",
              "      <td>0.038867</td>\n",
              "      <td>0.354810</td>\n",
              "      <td>0.06351</td>\n",
              "      <td>-0.094189</td>\n",
              "      <td>0.157860</td>\n",
              "      <td>-0.81665</td>\n",
              "      <td>0.14172</td>\n",
              "      <td>0.21939</td>\n",
              "      <td>0.58505</td>\n",
              "      <td>-0.52158</td>\n",
              "      <td>0.22783</td>\n",
              "      <td>-0.166420</td>\n",
              "      <td>-0.68228</td>\n",
              "      <td>0.35870</td>\n",
              "      <td>0.425680</td>\n",
              "      <td>0.190210</td>\n",
              "      <td>0.91963</td>\n",
              "      <td>0.575550</td>\n",
              "      <td>0.461850</td>\n",
              "      <td>0.423630</td>\n",
              "      <td>-0.095399</td>\n",
              "      <td>-0.42749</td>\n",
              "      <td>-0.16567</td>\n",
              "      <td>-0.056842</td>\n",
              "      <td>-0.295950</td>\n",
              "      <td>0.26037</td>\n",
              "      <td>-0.26606</td>\n",
              "      <td>-0.070404</td>\n",
              "      <td>-0.27662</td>\n",
              "      <td>0.158210</td>\n",
              "      <td>0.69825</td>\n",
              "      <td>0.43081</td>\n",
              "      <td>0.279520</td>\n",
              "      <td>-0.454370</td>\n",
              "      <td>...</td>\n",
              "      <td>-0.22080</td>\n",
              "      <td>0.18669</td>\n",
              "      <td>0.131770</td>\n",
              "      <td>0.15117</td>\n",
              "      <td>0.71310</td>\n",
              "      <td>-0.352150</td>\n",
              "      <td>0.913480</td>\n",
              "      <td>0.617830</td>\n",
              "      <td>0.709920</td>\n",
              "      <td>0.239550</td>\n",
              "      <td>-0.145710</td>\n",
              "      <td>-0.37859</td>\n",
              "      <td>-0.045959</td>\n",
              "      <td>-0.473680</td>\n",
              "      <td>0.238500</td>\n",
              "      <td>0.205360</td>\n",
              "      <td>-0.189960</td>\n",
              "      <td>0.325070</td>\n",
              "      <td>-1.11120</td>\n",
              "      <td>-0.363410</td>\n",
              "      <td>0.98679</td>\n",
              "      <td>-0.084776</td>\n",
              "      <td>-0.54008</td>\n",
              "      <td>0.11726</td>\n",
              "      <td>-1.0194</td>\n",
              "      <td>-0.24424</td>\n",
              "      <td>0.127710</td>\n",
              "      <td>0.013884</td>\n",
              "      <td>0.080374</td>\n",
              "      <td>-0.35414</td>\n",
              "      <td>0.349510</td>\n",
              "      <td>-0.722600</td>\n",
              "      <td>0.375490</td>\n",
              "      <td>0.44410</td>\n",
              "      <td>-0.99059</td>\n",
              "      <td>0.61214</td>\n",
              "      <td>-0.351110</td>\n",
              "      <td>-0.83155</td>\n",
              "      <td>0.45293</td>\n",
              "      <td>0.082577</td>\n",
              "    </tr>\n",
              "    <tr>\n",
              "      <th>.</th>\n",
              "      <td>-0.339790</td>\n",
              "      <td>0.209410</td>\n",
              "      <td>0.46348</td>\n",
              "      <td>-0.647920</td>\n",
              "      <td>-0.383770</td>\n",
              "      <td>0.038034</td>\n",
              "      <td>0.171270</td>\n",
              "      <td>0.159780</td>\n",
              "      <td>0.46619</td>\n",
              "      <td>-0.019169</td>\n",
              "      <td>0.414790</td>\n",
              "      <td>-0.34349</td>\n",
              "      <td>0.26872</td>\n",
              "      <td>0.04464</td>\n",
              "      <td>0.42131</td>\n",
              "      <td>-0.41032</td>\n",
              "      <td>0.15459</td>\n",
              "      <td>0.022239</td>\n",
              "      <td>-0.64653</td>\n",
              "      <td>0.25256</td>\n",
              "      <td>0.043136</td>\n",
              "      <td>-0.194450</td>\n",
              "      <td>0.46516</td>\n",
              "      <td>0.456510</td>\n",
              "      <td>0.685880</td>\n",
              "      <td>0.091295</td>\n",
              "      <td>0.218750</td>\n",
              "      <td>-0.70351</td>\n",
              "      <td>0.16785</td>\n",
              "      <td>-0.350790</td>\n",
              "      <td>-0.126340</td>\n",
              "      <td>0.66384</td>\n",
              "      <td>-0.25820</td>\n",
              "      <td>0.036542</td>\n",
              "      <td>-0.13605</td>\n",
              "      <td>0.402530</td>\n",
              "      <td>0.14289</td>\n",
              "      <td>0.38132</td>\n",
              "      <td>-0.122830</td>\n",
              "      <td>-0.458860</td>\n",
              "      <td>...</td>\n",
              "      <td>-0.55262</td>\n",
              "      <td>0.65000</td>\n",
              "      <td>0.086426</td>\n",
              "      <td>0.39012</td>\n",
              "      <td>1.06320</td>\n",
              "      <td>-0.353790</td>\n",
              "      <td>0.483280</td>\n",
              "      <td>0.346000</td>\n",
              "      <td>0.841740</td>\n",
              "      <td>0.098707</td>\n",
              "      <td>-0.242130</td>\n",
              "      <td>-0.27053</td>\n",
              "      <td>0.045287</td>\n",
              "      <td>-0.401470</td>\n",
              "      <td>0.113950</td>\n",
              "      <td>0.006223</td>\n",
              "      <td>0.036673</td>\n",
              "      <td>0.018518</td>\n",
              "      <td>-1.02130</td>\n",
              "      <td>-0.208060</td>\n",
              "      <td>0.64072</td>\n",
              "      <td>-0.068763</td>\n",
              "      <td>-0.58635</td>\n",
              "      <td>0.33476</td>\n",
              "      <td>-1.1432</td>\n",
              "      <td>-0.11480</td>\n",
              "      <td>-0.250910</td>\n",
              "      <td>-0.459070</td>\n",
              "      <td>-0.096819</td>\n",
              "      <td>-0.17946</td>\n",
              "      <td>-0.063351</td>\n",
              "      <td>-0.674120</td>\n",
              "      <td>-0.068895</td>\n",
              "      <td>0.53604</td>\n",
              "      <td>-0.87773</td>\n",
              "      <td>0.31802</td>\n",
              "      <td>-0.392420</td>\n",
              "      <td>-0.23394</td>\n",
              "      <td>0.47298</td>\n",
              "      <td>-0.028803</td>\n",
              "    </tr>\n",
              "    <tr>\n",
              "      <th>of</th>\n",
              "      <td>-0.152900</td>\n",
              "      <td>-0.242790</td>\n",
              "      <td>0.89837</td>\n",
              "      <td>0.169960</td>\n",
              "      <td>0.535160</td>\n",
              "      <td>0.487840</td>\n",
              "      <td>-0.588260</td>\n",
              "      <td>-0.179820</td>\n",
              "      <td>-1.35810</td>\n",
              "      <td>0.425410</td>\n",
              "      <td>0.153770</td>\n",
              "      <td>0.24215</td>\n",
              "      <td>0.13474</td>\n",
              "      <td>0.41193</td>\n",
              "      <td>0.67043</td>\n",
              "      <td>-0.56418</td>\n",
              "      <td>0.42985</td>\n",
              "      <td>-0.012183</td>\n",
              "      <td>-0.11677</td>\n",
              "      <td>0.31781</td>\n",
              "      <td>0.054177</td>\n",
              "      <td>-0.054273</td>\n",
              "      <td>0.35516</td>\n",
              "      <td>-0.302410</td>\n",
              "      <td>0.314340</td>\n",
              "      <td>-0.338460</td>\n",
              "      <td>0.717150</td>\n",
              "      <td>-0.26855</td>\n",
              "      <td>-0.15837</td>\n",
              "      <td>-0.474670</td>\n",
              "      <td>0.051581</td>\n",
              "      <td>-0.33252</td>\n",
              "      <td>0.15003</td>\n",
              "      <td>-0.129900</td>\n",
              "      <td>-0.54617</td>\n",
              "      <td>-0.378430</td>\n",
              "      <td>0.64261</td>\n",
              "      <td>0.82187</td>\n",
              "      <td>-0.080006</td>\n",
              "      <td>0.078479</td>\n",
              "      <td>...</td>\n",
              "      <td>0.04885</td>\n",
              "      <td>0.78267</td>\n",
              "      <td>0.384970</td>\n",
              "      <td>0.42097</td>\n",
              "      <td>0.67882</td>\n",
              "      <td>0.103370</td>\n",
              "      <td>0.632800</td>\n",
              "      <td>-0.026595</td>\n",
              "      <td>0.586470</td>\n",
              "      <td>-0.443320</td>\n",
              "      <td>0.330570</td>\n",
              "      <td>-0.12022</td>\n",
              "      <td>-0.556450</td>\n",
              "      <td>0.073611</td>\n",
              "      <td>0.209150</td>\n",
              "      <td>0.433950</td>\n",
              "      <td>-0.012761</td>\n",
              "      <td>0.089874</td>\n",
              "      <td>-1.79910</td>\n",
              "      <td>0.084808</td>\n",
              "      <td>0.77112</td>\n",
              "      <td>0.631050</td>\n",
              "      <td>-0.90685</td>\n",
              "      <td>0.60326</td>\n",
              "      <td>-1.7515</td>\n",
              "      <td>0.18596</td>\n",
              "      <td>-0.506870</td>\n",
              "      <td>-0.702030</td>\n",
              "      <td>0.665780</td>\n",
              "      <td>-0.81304</td>\n",
              "      <td>0.187120</td>\n",
              "      <td>-0.018488</td>\n",
              "      <td>-0.267570</td>\n",
              "      <td>0.72700</td>\n",
              "      <td>-0.59363</td>\n",
              "      <td>-0.34839</td>\n",
              "      <td>-0.560940</td>\n",
              "      <td>-0.59100</td>\n",
              "      <td>1.00390</td>\n",
              "      <td>0.206640</td>\n",
              "    </tr>\n",
              "    <tr>\n",
              "      <th>to</th>\n",
              "      <td>-0.189700</td>\n",
              "      <td>0.050024</td>\n",
              "      <td>0.19084</td>\n",
              "      <td>-0.049184</td>\n",
              "      <td>-0.089737</td>\n",
              "      <td>0.210060</td>\n",
              "      <td>-0.549520</td>\n",
              "      <td>0.098377</td>\n",
              "      <td>-0.20135</td>\n",
              "      <td>0.342410</td>\n",
              "      <td>-0.092677</td>\n",
              "      <td>0.16100</td>\n",
              "      <td>-0.13268</td>\n",
              "      <td>-0.28160</td>\n",
              "      <td>0.18737</td>\n",
              "      <td>-0.42959</td>\n",
              "      <td>0.96039</td>\n",
              "      <td>0.139720</td>\n",
              "      <td>-1.07810</td>\n",
              "      <td>0.40518</td>\n",
              "      <td>0.505390</td>\n",
              "      <td>-0.550640</td>\n",
              "      <td>0.48440</td>\n",
              "      <td>0.380440</td>\n",
              "      <td>-0.002906</td>\n",
              "      <td>-0.349420</td>\n",
              "      <td>-0.099696</td>\n",
              "      <td>-0.78368</td>\n",
              "      <td>1.03630</td>\n",
              "      <td>-0.231400</td>\n",
              "      <td>-0.471210</td>\n",
              "      <td>0.57126</td>\n",
              "      <td>-0.21454</td>\n",
              "      <td>0.359580</td>\n",
              "      <td>-0.48319</td>\n",
              "      <td>1.087500</td>\n",
              "      <td>0.28524</td>\n",
              "      <td>0.12447</td>\n",
              "      <td>-0.039248</td>\n",
              "      <td>-0.076732</td>\n",
              "      <td>...</td>\n",
              "      <td>-0.34780</td>\n",
              "      <td>0.51621</td>\n",
              "      <td>-0.433870</td>\n",
              "      <td>0.36852</td>\n",
              "      <td>0.74573</td>\n",
              "      <td>0.072102</td>\n",
              "      <td>0.279310</td>\n",
              "      <td>0.925690</td>\n",
              "      <td>-0.050336</td>\n",
              "      <td>-0.858560</td>\n",
              "      <td>-0.135800</td>\n",
              "      <td>-0.92551</td>\n",
              "      <td>-0.339910</td>\n",
              "      <td>-1.039400</td>\n",
              "      <td>-0.067203</td>\n",
              "      <td>-0.213790</td>\n",
              "      <td>-0.476900</td>\n",
              "      <td>0.213770</td>\n",
              "      <td>-0.84008</td>\n",
              "      <td>0.052536</td>\n",
              "      <td>0.59298</td>\n",
              "      <td>0.296040</td>\n",
              "      <td>-0.67644</td>\n",
              "      <td>0.13916</td>\n",
              "      <td>-1.5504</td>\n",
              "      <td>-0.20765</td>\n",
              "      <td>0.722200</td>\n",
              "      <td>0.520560</td>\n",
              "      <td>-0.076221</td>\n",
              "      <td>-0.15194</td>\n",
              "      <td>-0.131340</td>\n",
              "      <td>0.058617</td>\n",
              "      <td>-0.318690</td>\n",
              "      <td>-0.61419</td>\n",
              "      <td>-0.62393</td>\n",
              "      <td>-0.41548</td>\n",
              "      <td>-0.038175</td>\n",
              "      <td>-0.39804</td>\n",
              "      <td>0.47647</td>\n",
              "      <td>-0.159830</td>\n",
              "    </tr>\n",
              "  </tbody>\n",
              "</table>\n",
              "<p>5 rows × 100 columns</p>\n",
              "</div>"
            ],
            "text/plain": [
              "          1         2        3    ...      98       99        100\n",
              "0                                 ...                            \n",
              "the -0.038194 -0.244870  0.72812  ... -0.14590  0.82780  0.270620\n",
              ",   -0.107670  0.110530  0.59812  ... -0.83155  0.45293  0.082577\n",
              ".   -0.339790  0.209410  0.46348  ... -0.23394  0.47298 -0.028803\n",
              "of  -0.152900 -0.242790  0.89837  ... -0.59100  1.00390  0.206640\n",
              "to  -0.189700  0.050024  0.19084  ... -0.39804  0.47647 -0.159830\n",
              "\n",
              "[5 rows x 100 columns]"
            ]
          },
          "metadata": {
            "tags": []
          },
          "execution_count": 2
        }
      ]
    },
    {
      "cell_type": "code",
      "metadata": {
        "id": "W-_NYIGPQK6C"
      },
      "source": [
        "glove_embedding = {key: val.values for key, val in glove.T.items()}"
      ],
      "execution_count": 3,
      "outputs": []
    },
    {
      "cell_type": "code",
      "metadata": {
        "colab": {
          "base_uri": "https://localhost:8080/"
        },
        "id": "OLuubOkGQYMM",
        "outputId": "2f2f601f-ed33-460c-87f8-a7bc38c7f50c"
      },
      "source": [
        "print(glove_embedding['the'].shape)\n",
        "glove_embedding['the'][:20]"
      ],
      "execution_count": 16,
      "outputs": [
        {
          "output_type": "stream",
          "text": [
            "(100,)\n"
          ],
          "name": "stdout"
        },
        {
          "output_type": "execute_result",
          "data": {
            "text/plain": [
              "array([-0.038194, -0.24487 ,  0.72812 , -0.39961 ,  0.083172,  0.043953,\n",
              "       -0.39141 ,  0.3344  , -0.57545 ,  0.087459,  0.28787 , -0.06731 ,\n",
              "        0.30906 , -0.26384 , -0.13231 , -0.20757 ,  0.33395 , -0.33848 ,\n",
              "       -0.31743 , -0.48336 ])"
            ]
          },
          "metadata": {
            "tags": []
          },
          "execution_count": 16
        }
      ]
    },
    {
      "cell_type": "code",
      "metadata": {
        "id": "wpAHAO_bRS5H"
      },
      "source": [
        "import torch\n",
        "\n",
        "river_emb = torch.tensor(glove_embedding['river'])[None,:]\n",
        "bank_emb = torch.tensor(glove_embedding['bank'])[None,:]"
      ],
      "execution_count": 14,
      "outputs": []
    },
    {
      "cell_type": "code",
      "metadata": {
        "colab": {
          "base_uri": "https://localhost:8080/"
        },
        "id": "JBksQzueSGZT",
        "outputId": "b39046f0-69e6-487e-ce05-bf7ac02289a3"
      },
      "source": [
        "river_emb.shape"
      ],
      "execution_count": 13,
      "outputs": [
        {
          "output_type": "execute_result",
          "data": {
            "text/plain": [
              "torch.Size([1, 100])"
            ]
          },
          "metadata": {
            "tags": []
          },
          "execution_count": 13
        }
      ]
    },
    {
      "cell_type": "code",
      "metadata": {
        "colab": {
          "base_uri": "https://localhost:8080/"
        },
        "id": "8qlYNGKqQb1r",
        "outputId": "5aceb5d7-0ce9-4ede-f2f5-d202f0de18e5"
      },
      "source": [
        "from torch import nn\n",
        "\n",
        "cosine = nn.CosineSimilarity()\n",
        "cosine(river_emb,bank_emb)"
      ],
      "execution_count": 15,
      "outputs": [
        {
          "output_type": "execute_result",
          "data": {
            "text/plain": [
              "tensor([0.3345], dtype=torch.float64)"
            ]
          },
          "metadata": {
            "tags": []
          },
          "execution_count": 15
        }
      ]
    },
    {
      "cell_type": "code",
      "metadata": {
        "id": "j0H7yasTRxoO"
      },
      "source": [
        "string = [\"bank\",\"of\",\"the\",\"river\"]\n",
        "W1 = torch.tensor(glove_embedding[string[0]])\n",
        "weights = torch.rand((4,100))\n",
        "reweights_W1 = torch.rand(4)\n",
        "\n",
        "for i in range(len(string)):\n",
        "  word = torch.tensor(glove_embedding[string[i]])\n",
        "  weights[i,:] = word\n",
        "  reweights_W1[i]=(torch.dot(W1,word))\n"
      ],
      "execution_count": 42,
      "outputs": []
    },
    {
      "cell_type": "code",
      "metadata": {
        "colab": {
          "base_uri": "https://localhost:8080/"
        },
        "id": "nPcadcyNWOOR",
        "outputId": "8ca574cb-3bc5-4525-cd6b-07d13a20d519"
      },
      "source": [
        "reweights_W1"
      ],
      "execution_count": 43,
      "outputs": [
        {
          "output_type": "execute_result",
          "data": {
            "text/plain": [
              "tensor([46.4003, 20.8238, 21.5645, 16.5502])"
            ]
          },
          "metadata": {
            "tags": []
          },
          "execution_count": 43
        }
      ]
    },
    {
      "cell_type": "code",
      "metadata": {
        "id": "pfliivvFUlAN"
      },
      "source": [
        "norm_rewieghts = reweights_W1/torch.sum(reweights_W1)"
      ],
      "execution_count": 44,
      "outputs": []
    },
    {
      "cell_type": "code",
      "metadata": {
        "colab": {
          "base_uri": "https://localhost:8080/"
        },
        "id": "ULa_JqPIWbhP",
        "outputId": "4df254db-0b87-48d8-bb6c-e29f3c0f46f8"
      },
      "source": [
        "norm_rewieghts"
      ],
      "execution_count": 45,
      "outputs": [
        {
          "output_type": "execute_result",
          "data": {
            "text/plain": [
              "tensor([0.4405, 0.1977, 0.2047, 0.1571])"
            ]
          },
          "metadata": {
            "tags": []
          },
          "execution_count": 45
        }
      ]
    },
    {
      "cell_type": "code",
      "metadata": {
        "colab": {
          "base_uri": "https://localhost:8080/"
        },
        "id": "4b05wl_TU3JT",
        "outputId": "5a4f4601-64a5-427c-b517-51902ee5ed72"
      },
      "source": [
        "torch.sum(norm_rewieghts)"
      ],
      "execution_count": 46,
      "outputs": [
        {
          "output_type": "execute_result",
          "data": {
            "text/plain": [
              "tensor(1.)"
            ]
          },
          "metadata": {
            "tags": []
          },
          "execution_count": 46
        }
      ]
    },
    {
      "cell_type": "code",
      "metadata": {
        "id": "XReoOK7cWrgf"
      },
      "source": [
        "new_reweighted_W1_vector = norm_rewieghts@weights"
      ],
      "execution_count": 52,
      "outputs": []
    },
    {
      "cell_type": "code",
      "metadata": {
        "colab": {
          "base_uri": "https://localhost:8080/"
        },
        "id": "dmRk5b7ZZAWg",
        "outputId": "0dc4ed4e-ff8d-4c6c-aaaf-32eff5d359d6"
      },
      "source": [
        "cosine(river_emb,new_reweighted_W1_vector[None,:])"
      ],
      "execution_count": 54,
      "outputs": [
        {
          "output_type": "execute_result",
          "data": {
            "text/plain": [
              "tensor([0.5966], dtype=torch.float64)"
            ]
          },
          "metadata": {
            "tags": []
          },
          "execution_count": 54
        }
      ]
    },
    {
      "cell_type": "code",
      "metadata": {
        "colab": {
          "base_uri": "https://localhost:8080/"
        },
        "id": "nnxToGhcZMA-",
        "outputId": "3cf05333-40f2-4696-f91e-1a6ea2b06275"
      },
      "source": [
        "cosine(torch.tensor(glove_embedding['water'])[None,:],bank_emb)"
      ],
      "execution_count": 66,
      "outputs": [
        {
          "output_type": "execute_result",
          "data": {
            "text/plain": [
              "tensor([0.4943], dtype=torch.float64)"
            ]
          },
          "metadata": {
            "tags": []
          },
          "execution_count": 66
        }
      ]
    },
    {
      "cell_type": "code",
      "metadata": {
        "colab": {
          "base_uri": "https://localhost:8080/"
        },
        "id": "_zimrEfuaElU",
        "outputId": "e1084acc-0f1f-494c-941c-353ee371218b"
      },
      "source": [
        "cosine(torch.tensor(glove_embedding['water'])[None,:],new_reweighted_W1_vector[None,:])"
      ],
      "execution_count": 69,
      "outputs": [
        {
          "output_type": "execute_result",
          "data": {
            "text/plain": [
              "tensor([0.5709], dtype=torch.float64)"
            ]
          },
          "metadata": {
            "tags": []
          },
          "execution_count": 69
        }
      ]
    },
    {
      "cell_type": "code",
      "metadata": {
        "colab": {
          "base_uri": "https://localhost:8080/"
        },
        "id": "R86ir04LbarL",
        "outputId": "4fe27ab9-aeb4-4000-ef7d-eadce556ac49"
      },
      "source": [
        "cosine(torch.tensor(glove_embedding['money'])[None,:],bank_emb)"
      ],
      "execution_count": 70,
      "outputs": [
        {
          "output_type": "execute_result",
          "data": {
            "text/plain": [
              "tensor([0.5718], dtype=torch.float64)"
            ]
          },
          "metadata": {
            "tags": []
          },
          "execution_count": 70
        }
      ]
    },
    {
      "cell_type": "code",
      "metadata": {
        "colab": {
          "base_uri": "https://localhost:8080/"
        },
        "id": "oKNawT7mbh3l",
        "outputId": "0d2e7f6c-7a81-47fe-ced9-d278482a0d43"
      },
      "source": [
        "cosine(torch.tensor(glove_embedding['money'])[None,:],new_reweighted_W1_vector[None,:])"
      ],
      "execution_count": 71,
      "outputs": [
        {
          "output_type": "execute_result",
          "data": {
            "text/plain": [
              "tensor([0.6412], dtype=torch.float64)"
            ]
          },
          "metadata": {
            "tags": []
          },
          "execution_count": 71
        }
      ]
    },
    {
      "cell_type": "code",
      "metadata": {
        "id": "VCWwC6JPbpCt"
      },
      "source": [
        ""
      ],
      "execution_count": null,
      "outputs": []
    }
  ]
}